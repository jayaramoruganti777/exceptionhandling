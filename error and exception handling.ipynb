{
 "cells": [
  {
   "cell_type": "code",
   "execution_count": 1,
   "metadata": {},
   "outputs": [
    {
     "name": "stdout",
     "output_type": "stream",
     "text": [
      "hello\n"
     ]
    }
   ],
   "source": [
    "print('hello')"
   ]
  },
  {
   "cell_type": "code",
   "execution_count": 2,
   "metadata": {},
   "outputs": [
    {
     "name": "stdout",
     "output_type": "stream",
     "text": [
      "hello\n"
     ]
    }
   ],
   "source": [
    "try:\n",
    "    print('hello')\n",
    "except:\n",
    "    print('not working')"
   ]
  },
  {
   "cell_type": "code",
   "execution_count": 3,
   "metadata": {},
   "outputs": [
    {
     "name": "stdout",
     "output_type": "stream",
     "text": [
      "content is getting written\n"
     ]
    }
   ],
   "source": [
    "try:\n",
    "    f = open('testfile','w')\n",
    "    f.write('test file')\n",
    "except IOError:\n",
    "    print(\"file is giving IO error\")\n",
    "else:\n",
    "    print('content is getting written')"
   ]
  },
  {
   "cell_type": "code",
   "execution_count": 4,
   "metadata": {},
   "outputs": [
    {
     "name": "stdout",
     "output_type": "stream",
     "text": [
      "file is giving IO error\n"
     ]
    }
   ],
   "source": [
    "try:\n",
    "    f = open('testfile','r')\n",
    "    f.write('test file')\n",
    "except IOError:\n",
    "    print(\"file is giving IO error\")\n",
    "else:\n",
    "    print('content is getting written')"
   ]
  },
  {
   "cell_type": "code",
   "execution_count": 5,
   "metadata": {},
   "outputs": [
    {
     "name": "stdout",
     "output_type": "stream",
     "text": [
      "file written and closed successfully\n"
     ]
    }
   ],
   "source": [
    "try:\n",
    "    f = open ('testfile','w')\n",
    "    f.write(\"this is awesome\")\n",
    "    f.close()\n",
    "finally:\n",
    "    print(\"file written and closed successfully\")"
   ]
  },
  {
   "cell_type": "code",
   "execution_count": 6,
   "metadata": {},
   "outputs": [
    {
     "name": "stdout",
     "output_type": "stream",
     "text": [
      "error : division by zero\n"
     ]
    }
   ],
   "source": [
    "try:\n",
    "    print('hello',5/0)\n",
    "except Exception as e:\n",
    "    print('error :',str(e))"
   ]
  },
  {
   "cell_type": "code",
   "execution_count": 7,
   "metadata": {},
   "outputs": [],
   "source": [
    "def askint():\n",
    "    val = \"\"\n",
    "    try:\n",
    "        val = int(input(\"enter an integer value : \"))\n",
    "    except Exception as e :\n",
    "        print(\"looks like you gave some other value than integer \")\n",
    "    else:\n",
    "        print('yep this is an integer')\n",
    "    finally:\n",
    "        print('hey jay! i am also a late comer like you :)')\n",
    "    print(val)"
   ]
  },
  {
   "cell_type": "code",
   "execution_count": 8,
   "metadata": {},
   "outputs": [
    {
     "name": "stdout",
     "output_type": "stream",
     "text": [
      "enter an integer value : 5\n",
      "yep this is an integer\n",
      "hey jay! i am also a late comer like you :)\n",
      "5\n"
     ]
    }
   ],
   "source": [
    "askint()"
   ]
  },
  {
   "cell_type": "code",
   "execution_count": 10,
   "metadata": {},
   "outputs": [],
   "source": [
    "def askinteger():\n",
    "    val = \" \"\n",
    "    try:\n",
    "        val = int(input(\"enter an integer value : \"))\n",
    "    except Exception as e:\n",
    "        print(\"looks like value is not integer\")\n",
    "    else:\n",
    "         print(val*val)\n",
    "    finally:\n",
    "        print('hey jay! i am also a late comer like you :)')\n",
    "    print(val)\n",
    "    "
   ]
  },
  {
   "cell_type": "code",
   "execution_count": 12,
   "metadata": {},
   "outputs": [
    {
     "name": "stdout",
     "output_type": "stream",
     "text": [
      "enter an integer value : f\n",
      "looks like value is not integer\n",
      "hey jay! i am also a late comer like you :)\n",
      " \n"
     ]
    }
   ],
   "source": [
    "askinteger()"
   ]
  },
  {
   "cell_type": "markdown",
   "metadata": {},
   "source": [
    "# unit testing "
   ]
  },
  {
   "cell_type": "code",
   "execution_count": 13,
   "metadata": {},
   "outputs": [
    {
     "name": "stdout",
     "output_type": "stream",
     "text": [
      "Requirement already satisfied: pylint in c:\\users\\jayaram\\anaconda3\\lib\\site-packages (2.2.2)\n",
      "Requirement already satisfied: astroid>=2.0.0 in c:\\users\\jayaram\\anaconda3\\lib\\site-packages (from pylint) (2.1.0)\n",
      "Requirement already satisfied: isort>=4.2.5 in c:\\users\\jayaram\\anaconda3\\lib\\site-packages (from pylint) (4.3.4)\n",
      "Requirement already satisfied: mccabe in c:\\users\\jayaram\\anaconda3\\lib\\site-packages (from pylint) (0.6.1)\n",
      "Requirement already satisfied: colorama in c:\\users\\jayaram\\anaconda3\\lib\\site-packages (from pylint) (0.4.1)\n",
      "Requirement already satisfied: wrapt in c:\\users\\jayaram\\anaconda3\\lib\\site-packages (from astroid>=2.0.0->pylint) (1.10.11)\n",
      "Requirement already satisfied: lazy-object-proxy in c:\\users\\jayaram\\anaconda3\\lib\\site-packages (from astroid>=2.0.0->pylint) (1.3.1)\n",
      "Requirement already satisfied: six in c:\\users\\jayaram\\anaconda3\\lib\\site-packages (from astroid>=2.0.0->pylint) (1.12.0)\n"
     ]
    }
   ],
   "source": [
    "! pip install pylint"
   ]
  },
  {
   "cell_type": "code",
   "execution_count": 23,
   "metadata": {},
   "outputs": [
    {
     "name": "stdout",
     "output_type": "stream",
     "text": [
      "Overwriting simpletest.py\n"
     ]
    }
   ],
   "source": [
    "%%writefile simpletest.py\n",
    "A = 4\n",
    "B = 6\n",
    "print(A)\n",
    "print(B)"
   ]
  },
  {
   "cell_type": "code",
   "execution_count": 24,
   "metadata": {},
   "outputs": [
    {
     "name": "stdout",
     "output_type": "stream",
     "text": [
      "************* Module simpletest\n",
      "simpletest.py:1:0: C0111: Missing module docstring (missing-docstring)\n",
      "\n",
      "------------------------------------------------------------------\n",
      "\n",
      "Your code has been rated at 7.50/10 (previous run: 5.00/10, +2.50)\n",
      "\n",
      "\n",
      "\n"
     ]
    }
   ],
   "source": [
    "! Pylint simpletest.py"
   ]
  },
  {
   "cell_type": "code",
   "execution_count": 46,
   "metadata": {},
   "outputs": [
    {
     "name": "stdout",
     "output_type": "stream",
     "text": [
      "Overwriting simpletest1.py\n"
     ]
    }
   ],
   "source": [
    "%%writefile simpletest1.py\n",
    "'''\n",
    "a very own test file for python\n",
    "'''\n",
    "\n",
    "def myfun():\n",
    "    '''\n",
    "    an extremely idiot is deepu\n",
    "    '''\n",
    "    first = 1\n",
    "    second = 2\n",
    "    print(first)\n",
    "    print(second)\n",
    "myfun()"
   ]
  },
  {
   "cell_type": "code",
   "execution_count": 47,
   "metadata": {},
   "outputs": [
    {
     "name": "stdout",
     "output_type": "stream",
     "text": [
      "\n",
      "-------------------------------------------------------------------\n",
      "\n",
      "Your code has been rated at 10.00/10 (previous run: 8.33/10, +1.67)\n",
      "\n",
      "\n",
      "\n"
     ]
    }
   ],
   "source": [
    "! Pylint simpletest1.py"
   ]
  },
  {
   "cell_type": "code",
   "execution_count": 50,
   "metadata": {},
   "outputs": [],
   "source": [
    "##unittesting\n",
    "\n",
    "def cap_text(text):\n",
    "    return text.capitalize()"
   ]
  },
  {
   "cell_type": "code",
   "execution_count": 51,
   "metadata": {},
   "outputs": [
    {
     "data": {
      "text/plain": [
       "'Pove potti dhaana'"
      ]
     },
     "execution_count": 51,
     "metadata": {},
     "output_type": "execute_result"
    }
   ],
   "source": [
    "cap_text('pove potti dhaana')"
   ]
  },
  {
   "cell_type": "code",
   "execution_count": 70,
   "metadata": {},
   "outputs": [
    {
     "name": "stdout",
     "output_type": "stream",
     "text": [
      "Writing cap.py\n"
     ]
    }
   ],
   "source": [
    "%%writefile cap.py\n",
    "def cap_text(text):\n",
    "    return text.capitalize()"
   ]
  },
  {
   "cell_type": "code",
   "execution_count": 71,
   "metadata": {},
   "outputs": [
    {
     "name": "stdout",
     "output_type": "stream",
     "text": [
      "Overwriting test_cap.py\n"
     ]
    }
   ],
   "source": [
    "%%writefile test_cap.py\n",
    "\n",
    "import unittest\n",
    "import cap\n",
    "\n",
    "class TestCap(unittest.TestCase):\n",
    "    \n",
    "    def test_one_word(self):\n",
    "        text = 'python'\n",
    "        result = cap.cap_text(text)\n",
    "        self.assertEqual(result,'Python')\n",
    "        \n",
    "    def test_multiple_words(self):\n",
    "        text = \"itm fcs\"\n",
    "        result = cap.cap_text(text)\n",
    "        self.assertEqual(result,'Itm fcs')\n",
    "        \n",
    "if __name__=='__main__':\n",
    "    unittest.main()"
   ]
  },
  {
   "cell_type": "code",
   "execution_count": 73,
   "metadata": {},
   "outputs": [
    {
     "name": "stderr",
     "output_type": "stream",
     "text": [
      "..\n",
      "----------------------------------------------------------------------\n",
      "Ran 2 tests in 0.000s\n",
      "\n",
      "OK\n"
     ]
    }
   ],
   "source": [
    "!python test_cap.py"
   ]
  },
  {
   "cell_type": "code",
   "execution_count": null,
   "metadata": {},
   "outputs": [],
   "source": []
  }
 ],
 "metadata": {
  "kernelspec": {
   "display_name": "Python 3",
   "language": "python",
   "name": "python3"
  },
  "language_info": {
   "codemirror_mode": {
    "name": "ipython",
    "version": 3
   },
   "file_extension": ".py",
   "mimetype": "text/x-python",
   "name": "python",
   "nbconvert_exporter": "python",
   "pygments_lexer": "ipython3",
   "version": "3.7.1"
  }
 },
 "nbformat": 4,
 "nbformat_minor": 2
}
